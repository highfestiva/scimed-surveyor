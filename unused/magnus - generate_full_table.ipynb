{
 "cells": [
  {
   "cell_type": "code",
   "execution_count": 1,
   "metadata": {},
   "outputs": [],
   "source": [
    "import gzip\n",
    "import json\n",
    "from datetime import datetime\n",
    "import pandas as pd\n",
    "import io\n",
    "import requests\n",
    "import re\n",
    "\n",
    "import shutil\n",
    "import urllib.request as request\n",
    "from contextlib import closing"
   ]
  },
  {
   "cell_type": "code",
   "execution_count": 2,
   "metadata": {},
   "outputs": [],
   "source": [
    "base_url=r'C:\\Users\\magkj2\\OneDrive - Västra Götalandsregionen\\Documents\\Innovationsfonden\\omvärldsbevakning\\covid-19\\data\\\\'"
   ]
  },
  {
   "cell_type": "code",
   "execution_count": 3,
   "metadata": {},
   "outputs": [],
   "source": [
    "mesh_dict={}\n",
    "mesh_tree_dict={}\n",
    "\n",
    "#mesh laddas ner från ftp://nlmpubs.nlm.nih.gov/online/mesh/MESH_FILES/asciimesh/\n",
    "mesh_fname=base_url+r'd2020.bin'\n",
    "\n",
    "mh=\"\"\n",
    "ui=\"\"\n",
    "mn=[]\n",
    "res_l=[]\n",
    "with open(mesh_fname, 'rb') as f:\n",
    "    file_content = f.read()\n",
    "    for line in file_content.decode('utf-8').split(\"\\n\"):\n",
    "        if line ==\"*NEWRECORD\":\n",
    "            res_l.append({\"mh\":mh, \"ui\":ui,\"mn\":mn})\n",
    "            mesh_dict[ui] = {\"mh\":mh,\"mn\":mn}\n",
    "            mh=\"\"\n",
    "            ui=\"\"\n",
    "            mn=[]\n",
    "        if line[:3]==\"MH \":\n",
    "            mh=line.replace(\"MH = \",\"\")\n",
    "        if line[:2]==\"UI\":\n",
    "            ui=line.replace(\"UI = \",\"\")\n",
    "        if line[:2]==\"MN\":\n",
    "            mn.append(line.replace(\"MN = \",\"\"))\n",
    "\n",
    "mesh_fname=base_url+r'c2020.bin'\n",
    "mh=\"\"\n",
    "ui=\"\"\n",
    "mn=[]\n",
    "res_l=[]\n",
    "with open(mesh_fname, 'rb') as f:\n",
    "    file_content = f.read()\n",
    "    for line in file_content.decode('utf-8').split(\"\\n\"):\n",
    "        if line ==\"*NEWRECORD\":\n",
    "            res_l.append({\"mh\":mh, \"ui\":ui,\"mn\":mn})\n",
    "            mesh_dict[ui] = {\"mh\":mh,\"mn\":mn}\n",
    "            mh=\"\"\n",
    "            ui=\"\"\n",
    "            mn=[]\n",
    "        if line[:3]==\"NM \":\n",
    "            mh=line.replace(\"NM = \",\"\")\n",
    "        if line[:2]==\"UI\":\n",
    "            ui=line.replace(\"UI = \",\"\")\n",
    "        if line[:2]==\"HM\":\n",
    "            mn.append(line.replace(\"HM = \",\"\"))\n",
    "            \n",
    "mesh_fname=base_url+r'q2020.bin'\n",
    "mh=\"\"\n",
    "ui=\"\"\n",
    "mn=[]\n",
    "res_l=[]\n",
    "with open(mesh_fname, 'rb') as f:\n",
    "    file_content = f.read()\n",
    "    for line in file_content.decode('utf-8').split(\"\\n\"):\n",
    "        if line ==\"*NEWRECORD\":\n",
    "            res_l.append({\"mh\":mh, \"ui\":ui,\"mn\":mn})\n",
    "            mesh_dict[ui] = {\"mh\":mh,\"mn\":mn}\n",
    "            mh=\"\"\n",
    "            ui=\"\"\n",
    "            mn=[]\n",
    "        if line[:3]==\"SH \":\n",
    "            mh=line.replace(\"SH = \",\"\")\n",
    "        if line[:2]==\"UI\":\n",
    "            ui=line.replace(\"UI = \",\"\")\n",
    "        #if line[:2]==\"HM\":\n",
    "        #    mn.append(line.replace(\"HM = \",\"\"))\n"
   ]
  },
  {
   "cell_type": "code",
   "execution_count": 4,
   "metadata": {},
   "outputs": [],
   "source": [
    "c=0\n",
    "mesh_tree_dict={}\n",
    "for rec in mesh_dict:\n",
    "    #print (rec, mesh_dict[rec])\n",
    "    for mn in mesh_dict[rec][\"mn\"]:\n",
    "        mn_l = mn.split(\".\")\n",
    "        s=\"\"\n",
    "        mesh_tree_dict[mn]={\"mh\":mesh_dict[rec][\"mh\"],\"ui\":rec}\n",
    "            \n",
    "    c+=1\n",
    "    #if c>10:\n",
    "    #    break"
   ]
  },
  {
   "cell_type": "code",
   "execution_count": 5,
   "metadata": {},
   "outputs": [
    {
     "ename": "AttributeError",
     "evalue": "module 'pandas' has no attribute 'open_csv'",
     "output_type": "error",
     "traceback": [
      "\u001b[1;31m---------------------------------------------------------------------------\u001b[0m",
      "\u001b[1;31mAttributeError\u001b[0m                            Traceback (most recent call last)",
      "\u001b[1;32m<ipython-input-5-26cebd999a87>\u001b[0m in \u001b[0;36m<module>\u001b[1;34m\u001b[0m\n\u001b[1;32m----> 1\u001b[1;33m \u001b[0mdf\u001b[0m\u001b[1;33m=\u001b[0m\u001b[0mpd\u001b[0m\u001b[1;33m.\u001b[0m\u001b[0mopen_csv\u001b[0m\u001b[1;33m(\u001b[0m\u001b[1;33m)\u001b[0m\u001b[1;33m\u001b[0m\u001b[1;33m\u001b[0m\u001b[0m\n\u001b[0m",
      "\u001b[1;32m~\\AppData\\Local\\Continuum\\anaconda3\\lib\\site-packages\\pandas\\__init__.py\u001b[0m in \u001b[0;36m__getattr__\u001b[1;34m(name)\u001b[0m\n\u001b[0;32m    212\u001b[0m \u001b[1;33m\u001b[0m\u001b[0m\n\u001b[0;32m    213\u001b[0m             \u001b[1;32mreturn\u001b[0m \u001b[0mPanel\u001b[0m\u001b[1;33m\u001b[0m\u001b[1;33m\u001b[0m\u001b[0m\n\u001b[1;32m--> 214\u001b[1;33m         \u001b[1;32mraise\u001b[0m \u001b[0mAttributeError\u001b[0m\u001b[1;33m(\u001b[0m\u001b[1;34m\"module 'pandas' has no attribute '{}'\"\u001b[0m\u001b[1;33m.\u001b[0m\u001b[0mformat\u001b[0m\u001b[1;33m(\u001b[0m\u001b[0mname\u001b[0m\u001b[1;33m)\u001b[0m\u001b[1;33m)\u001b[0m\u001b[1;33m\u001b[0m\u001b[1;33m\u001b[0m\u001b[0m\n\u001b[0m\u001b[0;32m    215\u001b[0m \u001b[1;33m\u001b[0m\u001b[0m\n\u001b[0;32m    216\u001b[0m \u001b[1;33m\u001b[0m\u001b[0m\n",
      "\u001b[1;31mAttributeError\u001b[0m: module 'pandas' has no attribute 'open_csv'"
     ]
    }
   ],
   "source": [
    "df=pd.open_csv()"
   ]
  },
  {
   "cell_type": "code",
   "execution_count": null,
   "metadata": {},
   "outputs": [],
   "source": [
    "mesh_dict['C000006']"
   ]
  },
  {
   "cell_type": "code",
   "execution_count": null,
   "metadata": {},
   "outputs": [],
   "source": [
    "mesh_tree_dict['D02.886']"
   ]
  },
  {
   "cell_type": "code",
   "execution_count": null,
   "metadata": {},
   "outputs": [],
   "source": [
    "mesh_dict['D000001']"
   ]
  },
  {
   "cell_type": "code",
   "execution_count": null,
   "metadata": {},
   "outputs": [],
   "source": [
    "mesh_tree_dict['D03.633.100.221.173']"
   ]
  },
  {
   "cell_type": "code",
   "execution_count": null,
   "metadata": {},
   "outputs": [],
   "source": [
    "mesh_tree_dict['D03.633.100.221']"
   ]
  },
  {
   "cell_type": "code",
   "execution_count": null,
   "metadata": {},
   "outputs": [],
   "source": [
    "mesh_tree_dict['D03.633.100']"
   ]
  },
  {
   "cell_type": "code",
   "execution_count": null,
   "metadata": {},
   "outputs": [],
   "source": [
    "mesh_tree_dict['D03.633']"
   ]
  },
  {
   "cell_type": "code",
   "execution_count": null,
   "metadata": {},
   "outputs": [],
   "source": [
    "mesh_tree_dict['D03']"
   ]
  },
  {
   "cell_type": "code",
   "execution_count": 26,
   "metadata": {},
   "outputs": [],
   "source": [
    "biocjson_fname = base_url+r'litcovid2BioCJSON.gz'\n",
    "\n",
    "with closing(request.urlopen('https://ftp.ncbi.nlm.nih.gov/pub/lu/LitCovid/litcovid2BioCJSON.gz')) as r:\n",
    "    with open(biocjson_fname, 'wb') as f:\n",
    "        shutil.copyfileobj(r, f)"
   ]
  },
  {
   "cell_type": "code",
   "execution_count": 27,
   "metadata": {},
   "outputs": [],
   "source": [
    "pubtator_fname = base_url+r'litcovid2pubtator.gz'\n",
    "\n",
    "with closing(request.urlopen('https://ftp.ncbi.nlm.nih.gov/pub/lu/LitCovid/litcovid2pubtator.json.gz')) as r:\n",
    "    with open(pubtator_fname, 'wb') as f:\n",
    "        shutil.copyfileobj(r, f)"
   ]
  },
  {
   "cell_type": "code",
   "execution_count": 28,
   "metadata": {},
   "outputs": [],
   "source": [
    "month_dict={'Jan' : '01'\n",
    "           , 'Feb' :'02'\n",
    "           , 'Mar':'03'\n",
    "           , 'Apr':'04'\n",
    "           ,'May':'05'\n",
    "           ,'Jun':'06'\n",
    "           ,'Jul':'07'\n",
    "           ,'Aug':'08'\n",
    "           ,'Sep':'09'\n",
    "           ,'Okt':'10'\n",
    "           ,'Nov':'11'\n",
    "           ,'Dec':'12'\n",
    "           ,'01' : '01'\n",
    "           , '02' :'02'\n",
    "           , '03':'03'\n",
    "           , '04':'04'\n",
    "           ,'05':'05'\n",
    "           ,'06':'06'\n",
    "           ,'07':'07'\n",
    "           ,'08':'08'\n",
    "           ,'09':'09'\n",
    "           ,'10':'10'\n",
    "           ,'11':'11'\n",
    "           ,'12':'12'           \n",
    "            ,'1' : '01'\n",
    "           , '2' :'02'\n",
    "           , '3':'03'\n",
    "           , '4':'04'\n",
    "           ,'5':'05'\n",
    "           ,'6':'06'\n",
    "           ,'7':'07'\n",
    "           ,'8':'08'\n",
    "           ,'9':'09'          \n",
    "           }"
   ]
  },
  {
   "cell_type": "code",
   "execution_count": 58,
   "metadata": {},
   "outputs": [
    {
     "name": "stdout",
     "output_type": "stream",
     "text": [
      "{'name_3': 'surname:Cooke;given-names:Nicholas', 'name_2': 'surname:Baleswaran;given-names:Amintha', 'name_1': 'surname:Banks;given-names:Louise', 'article-id_pmid': '32298512', 'name_0': 'surname:Swift;given-names:Amelia', 'year': '2020', 'article-id_pmc': '7262260', 'article-id_publisher-id': 'JOCN15298', 'article-id_doi': '10.1111/jocn.15298', 'type': 'front', 'elocation-id': '10.1111/jocn.15298', 'license': 'This is an open access article under the terms of the http://creativecommons.org/licenses/by-nc-nd/4.0/ License, which permits use and distribution in any medium, provided the original work is properly cited, the use is non-commercial and no modifications or adaptations are made.', 'name_10': 'surname:Williams;given-names:Grace', 'section_type': 'TITLE', 'name_9': 'surname:Tomlinson;given-names:Amy', 'name_8': 'surname:Rees;given-names:Helen', 'name_7': 'surname:Neve;given-names:Alice', 'name_6': 'surname:Meechan-Rogers;given-names:Ronnie', 'name_5': 'surname:McGrath;given-names:Linda', 'name_4': 'surname:Little;given-names:Cerys', 'section': 'Title'}\n",
      "{'section_type': 'INTRO', 'type': 'paragraph', 'section': 'Title'}\n",
      "{'section_type': 'INTRO', 'type': 'paragraph', 'section': 'Title'}\n",
      "{'section_type': 'INTRO', 'type': 'paragraph', 'section': 'Title'}\n",
      "{'section_type': 'INTRO', 'type': 'paragraph', 'section': 'Title'}\n",
      "{'section_type': 'INTRO', 'type': 'paragraph', 'section': 'Title'}\n",
      "{'section_type': 'INTRO', 'type': 'paragraph', 'section': 'Title'}\n",
      "{'section_type': 'INTRO', 'type': 'paragraph', 'section': 'Title'}\n",
      "{'section_type': 'INTRO', 'type': 'paragraph', 'section': 'Title'}\n",
      "{'section_type': 'INTRO', 'type': 'paragraph', 'section': 'Title'}\n",
      "{'section_type': 'INTRO', 'type': 'paragraph', 'section': 'Title'}\n",
      "{'section_type': 'INTRO', 'type': 'paragraph', 'section': 'Title'}\n",
      "{'section_type': 'INTRO', 'type': 'paragraph', 'section': 'Title'}\n",
      "{'section_type': 'INTRO', 'type': 'paragraph', 'section': 'Title'}\n",
      "{'section_type': 'INTRO', 'type': 'paragraph', 'section': 'Title'}\n",
      "{'section_type': 'INTRO', 'type': 'paragraph', 'section': 'Title'}\n",
      "{'section_type': 'INTRO', 'type': 'paragraph', 'section': 'Title'}\n",
      "{'section_type': 'INTRO', 'type': 'paragraph', 'section': 'Title'}\n",
      "{'section_type': 'INTRO', 'type': 'paragraph', 'section': 'Title'}\n",
      "{'section_type': 'INTRO', 'type': 'paragraph', 'section': 'Title'}\n",
      "{'section_type': 'INTRO', 'type': 'paragraph', 'section': 'Title'}\n",
      "{'section_type': 'INTRO', 'type': 'paragraph', 'section': 'Title'}\n",
      "{'section_type': 'INTRO', 'type': 'paragraph', 'section': 'Title'}\n",
      "{'section_type': 'INTRO', 'type': 'paragraph', 'section': 'Title'}\n",
      "{'section_type': 'INTRO', 'type': 'paragraph', 'section': 'Title'}\n",
      "{'section_type': 'INTRO', 'type': 'paragraph', 'section': 'Title'}\n",
      "{'section_type': 'INTRO', 'type': 'paragraph', 'section': 'Title'}\n",
      "{'section_type': 'INTRO', 'type': 'paragraph', 'section': 'Title'}\n",
      "{'section_type': 'INTRO', 'type': 'paragraph', 'section': 'Title'}\n",
      "{'section_type': 'INTRO', 'type': 'paragraph', 'section': 'Title'}\n",
      "{'section_type': 'REF', 'type': 'title', 'section': 'REFERENCES'}\n",
      "{'volume': '68', 'section_type': 'REF', 'fpage': '1546', 'issue': '7', 'pub-id_doi': '10.1111/j.1365-2648.2012.05955.x', 'pub-id_pmid': '22348655', 'year': '2012', 'source': 'Journal of Advanced Nursing', 'type': 'ref', 'lpage': '1555', 'section': 'REFERENCES'}\n",
      "{'section_type': 'REF', 'year': '2020', 'source': 'Standard operating procedure for the deployment of student nurses: West Midlands', 'type': 'ref', 'section': 'REFERENCES'}\n",
      "{'volume': '27', 'section_type': 'REF', 'fpage': '3157', 'issue': '15-16', 'pub-id_doi': '10.1111/jocn.14510', 'pub-id_pmid': '29752850', 'year': '2018', 'source': 'Journal of Clinical Nursing', 'type': 'ref', 'lpage': '3170', 'section': 'REFERENCES'}\n",
      "{'section_type': 'REF', 'pub-id_doi': '10.1111/jocn.15257', 'year': '2020', 'source': 'Journal of Clinical Nursing', 'type': 'ref', 'section': 'REFERENCES'}\n",
      "{'volume': '54', 'section_type': 'REF', 'fpage': '160', 'issue': '2', 'pub-id_doi': '10.1080/10376178.2018.1461572', 'pub-id_pmid': '29669455', 'year': '2018', 'source': 'Contemporary Nurse', 'type': 'ref', 'lpage': '170', 'section': 'REFERENCES'}\n",
      "{'volume': '26', 'section_type': 'REF', 'fpage': '368', 'issue': '2', 'pub-id_doi': '10.1177/0969733017709336', 'pub-id_pmid': '28553753', 'year': '2019', 'source': 'Nursing Ethics', 'type': 'ref', 'lpage': '377', 'section': 'REFERENCES'}\n",
      "{'volume': '26', 'section_type': 'REF', 'fpage': '3099', 'issue': '19-20', 'pub-id_doi': '10.1111/jocn.13658', 'pub-id_pmid': '27875018', 'year': '2017', 'source': 'Journal of Clinical Nursing', 'type': 'ref', 'lpage': '3110', 'section': 'REFERENCES'}\n",
      "{'volume': '28', 'section_type': 'REF', 'fpage': '1164', 'issue': '7-8', 'pub-id_pmid': '30431190', 'year': '2019', 'source': 'Journal of Clinical Nursing', 'type': 'ref', 'lpage': '1173', 'section': 'REFERENCES'}\n"
     ]
    }
   ],
   "source": [
    "fname_litt=base_url+r'litcovid2BioCJSON.gz'\n",
    "published_date_dict={}\n",
    "with gzip.open(fname_litt, 'rb') as f:\n",
    "    file_content = f.read()\n",
    "    c=0\n",
    "    for l in json.loads(file_content)[1]:\n",
    "        #print(l)\n",
    "        #print(pd.to_datetime(l[\"created\"][\"$date\"], unit='ms').strftime('%Y-%m-%d'))\n",
    "        \n",
    "        if str(l[\"_id\"])[:8]=='32298512':#'31944312':#'32298512':\n",
    "            for aa in l[\"passages\"]:\n",
    "                print(aa[\"infons\"])\n",
    "        #c+=1\n",
    "        #if c>10:\n",
    "        #    break"
   ]
  },
  {
   "cell_type": "code",
   "execution_count": 39,
   "metadata": {},
   "outputs": [
    {
     "name": "stdout",
     "output_type": "stream",
     "text": [
      "['; 2006 '] 0\n",
      "['Cancer Med J; 2021 Aug 01 ; 4 (2) 44-47'] 0\n",
      "['; 2006 '] 0\n",
      "['Pathog Dis; 2019 12 01 ; 77 (9) . doi:10.1093/femspd/ftaa006'] 0\n",
      "['Indian J Med Microbiol; 2019 Oct-Dec ; 37 (4) 459-477. doi:10.4103/ijmm.IJMM_20_54'] 0\n",
      "['Cutis; 2019 Mar ; 105 (3) 22-'] 0\n",
      "['Cancer Med J; 2021 Apr 01 ; 4 (1) 38-43'] 0\n",
      "['Ultrasound Int Open; 2019 Nov ; 5 (3) 80. doi:10.1055/a-1044-7237'] 0\n"
     ]
    }
   ],
   "source": [
    "fname_litt=base_url+r'litcovid2BioCJSON.gz'\n",
    "published_date_dict={}\n",
    "with gzip.open(fname_litt, 'rb') as f:\n",
    "    file_content = f.read()\n",
    "    c=0\n",
    "    for l in json.loads(file_content)[1]:\n",
    "        if l[\"id\"]=='32386903':\n",
    "            \n",
    "            print(l[\"id\"])\n",
    "        for passage in l['passages']:\n",
    "            if 'journal' in passage['infons']:\n",
    "                j_l=passage['infons']['journal'].split(\"2020\")\n",
    "                if len(j_l)>1:\n",
    "                    journal=j_l[0]\n",
    "                    date_l=re.split('[^a-zA-Z0-9]', j_l[1].strip())\n",
    "                    if len(date_l)>1:\n",
    "                        month = date_l[0]\n",
    "                        if month in month_dict:\n",
    "                            month =month_dict[month]\n",
    "                            #pass\n",
    "                            day = date_l[1].zfill(2)\n",
    "                            if day ==\"00\":\n",
    "                                day=\"01\"\n",
    "                            try:\n",
    "                                if int(day)>31:\n",
    "                                    day=\"01\"\n",
    "                            except:\n",
    "                                day=\"01\"\n",
    "                            #print(\"2020-\"+month+\"-\"+day)\n",
    "                            published_date_dict[l[\"pmid\"]] =\"2020-\"+month+\"-\"+day\n",
    "                            #print(j_l,c)\n",
    "                            #c+=1\n",
    "                            #if c>10:\n",
    "                            #    break\n",
    "                        else:\n",
    "                            published_date_dict[l[\"pmid\"]] =pd.to_datetime(l[\"created\"][\"$date\"], unit='ms').strftime('%Y-%m-%d')\n",
    "                            #print(j_l,c)\n",
    "                            #c+=1\n",
    "                            #if c>10:\n",
    "                            #   break\n",
    "                        day = date_l[1].zfill(2)\n",
    "                    else:\n",
    "                        published_date_dict[l[\"pmid\"]] =pd.to_datetime(l[\"created\"][\"$date\"], unit='ms').strftime('%Y-%m-%d')\n",
    "                        #print(j_l,c)\n",
    "                        #c+=1\n",
    "                        #if c>10:\n",
    "                        #    break\n",
    "                else:\n",
    "                    published_date_dict[l[\"pmid\"]] =pd.to_datetime(l[\"created\"][\"$date\"], unit='ms').strftime('%Y-%m-%d')\n",
    "                    print(j_l,c)\n",
    "\n",
    "        #c+=1\n",
    "        #if c>10:\n",
    "        #    break"
   ]
  },
  {
   "cell_type": "code",
   "execution_count": 30,
   "metadata": {},
   "outputs": [
    {
     "name": "stdout",
     "output_type": "stream",
     "text": [
      "32525830 2020-05-31\n",
      "32513858 2020-06-08\n",
      "32393453 2020-04-01\n",
      "32534082 2020-06-10\n",
      "32234312 2020-03-29\n",
      "32538807 2020-06-01\n",
      "32518471 2020-09-01\n",
      "32366725 2020-05-04\n",
      "32361738 2020-05-03\n",
      "32374538 2020-05-06\n",
      "32538353 2020-06-15\n"
     ]
    }
   ],
   "source": [
    "c=0\n",
    "for g in published_date_dict:\n",
    "    print(g, published_date_dict[g])\n",
    "    c+=1\n",
    "    if c>10:\n",
    "        break"
   ]
  },
  {
   "cell_type": "code",
   "execution_count": 31,
   "metadata": {},
   "outputs": [],
   "source": [
    "d_df=pd.DataFrame.from_dict(published_date_dict, orient='index')"
   ]
  },
  {
   "cell_type": "code",
   "execution_count": 35,
   "metadata": {},
   "outputs": [
    {
     "data": {
      "text/html": [
       "<div>\n",
       "<style scoped>\n",
       "    .dataframe tbody tr th:only-of-type {\n",
       "        vertical-align: middle;\n",
       "    }\n",
       "\n",
       "    .dataframe tbody tr th {\n",
       "        vertical-align: top;\n",
       "    }\n",
       "\n",
       "    .dataframe thead th {\n",
       "        text-align: right;\n",
       "    }\n",
       "</style>\n",
       "<table border=\"1\" class=\"dataframe\">\n",
       "  <thead>\n",
       "    <tr style=\"text-align: right;\">\n",
       "      <th></th>\n",
       "      <th>index</th>\n",
       "      <th>0</th>\n",
       "    </tr>\n",
       "  </thead>\n",
       "  <tbody>\n",
       "    <tr>\n",
       "      <td>0</td>\n",
       "      <td>32525830</td>\n",
       "      <td>2020-05-31</td>\n",
       "    </tr>\n",
       "    <tr>\n",
       "      <td>1</td>\n",
       "      <td>32513858</td>\n",
       "      <td>2020-06-08</td>\n",
       "    </tr>\n",
       "    <tr>\n",
       "      <td>2</td>\n",
       "      <td>32393453</td>\n",
       "      <td>2020-04-01</td>\n",
       "    </tr>\n",
       "    <tr>\n",
       "      <td>3</td>\n",
       "      <td>32534082</td>\n",
       "      <td>2020-06-10</td>\n",
       "    </tr>\n",
       "    <tr>\n",
       "      <td>4</td>\n",
       "      <td>32234312</td>\n",
       "      <td>2020-03-29</td>\n",
       "    </tr>\n",
       "  </tbody>\n",
       "</table>\n",
       "</div>"
      ],
      "text/plain": [
       "      index           0\n",
       "0  32525830  2020-05-31\n",
       "1  32513858  2020-06-08\n",
       "2  32393453  2020-04-01\n",
       "3  32534082  2020-06-10\n",
       "4  32234312  2020-03-29"
      ]
     },
     "execution_count": 35,
     "metadata": {},
     "output_type": "execute_result"
    }
   ],
   "source": [
    "d_df.reset_index().head()"
   ]
  },
  {
   "cell_type": "code",
   "execution_count": 36,
   "metadata": {},
   "outputs": [],
   "source": [
    "d_df.reset_index().to_csv(base_url+r'temp_date.csv',index=False)"
   ]
  },
  {
   "cell_type": "code",
   "execution_count": 10,
   "metadata": {},
   "outputs": [],
   "source": [
    "def generate_cat_list(in_cat):\n",
    "    url = r'https://www.ncbi.nlm.nih.gov/research/coronavirus-api/export/tsv?filters=%7B%22topics%22%3A%5B%22'+in_cat+r'%22%5D%7D'\n",
    "    myfile = requests.get(url)\n",
    "    open(r'C:\\temp\\covid19\\temp.txt', 'wb').write(myfile.content)\n",
    "    cat_f=open(r'C:\\temp\\covid19\\temp.txt')\n",
    "\n",
    "    cat_dict={}\n",
    "    for d in cat_f.read().split(\"\\n\"):\n",
    "        if len(d)>0:\n",
    "            if d[0]!=\"#\":\n",
    "                pmid = d.split(\"\\t\")[0]\n",
    "                if pmid !=\"pmid\":\n",
    "                    cat_dict[pmid] = in_cat\n",
    "    return cat_dict\n",
    "\n",
    "id_cat_dict={}\n",
    "\n",
    "id_cat_dict.update(generate_cat_list(\"General Info\"))\n",
    "id_cat_dict.update(generate_cat_list(\"Mechanism\"))\n",
    "id_cat_dict.update(generate_cat_list(\"Transmission\"))\n",
    "id_cat_dict.update(generate_cat_list(\"Diagnosis\"))\n",
    "id_cat_dict.update(generate_cat_list(\"Treatment\"))\n",
    "id_cat_dict.update(generate_cat_list(\"Prevention\"))\n",
    "id_cat_dict.update(generate_cat_list(\"Case Report\"))\n",
    "id_cat_dict.update(generate_cat_list(\"Epidemic Forecasting\"))"
   ]
  },
  {
   "cell_type": "code",
   "execution_count": 11,
   "metadata": {},
   "outputs": [],
   "source": [
    "#laddas ner från ftp://ftp.ncbi.nih.gov/gene/DATA/GENE_INFO/Mammalia/\n",
    "fname_litt=base_url+r'Homo_sapiens.gene_info.gz'\n",
    "gene_info_dict={}\n",
    "with gzip.open(fname_litt, 'rb') as f:\n",
    "    file_content = f.read()\n",
    "    c=0\n",
    "    for rec in file_content.decode(\"utf-8\").split(\"\\n\"):\n",
    "        rec_l=rec.split(\"\\t\")\n",
    "        if len(rec_l) > 1:\n",
    "            if rec_l[1] not in gene_info_dict:\n",
    "                gene_info_dict[rec_l[1]] = []\n",
    "            gene_info_dict[rec_l[1]]={\"name\": rec_l[11], \"symbol\" : rec_l[2]}\n",
    "            c+=1\n",
    "            #if c>10:\n",
    "            #    break"
   ]
  },
  {
   "cell_type": "code",
   "execution_count": 12,
   "metadata": {},
   "outputs": [],
   "source": [
    "#laddas ner från ftp://ftp.ncbi.nih.gov/gene/DATA/\n",
    "fname_litt=base_url+r'gene2go.gz'\n",
    "gene2go_dict={}\n",
    "with gzip.open(fname_litt, 'rb') as f:\n",
    "    file_content = f.read()\n",
    "    c=0\n",
    "    for rec in file_content.decode(\"utf-8\").split(\"\\n\"):\n",
    "        rec_l=rec.split(\"\\t\")\n",
    "        if len(rec_l) > 1:\n",
    "            if rec_l[1] not in gene2go_dict:\n",
    "                gene2go_dict[rec_l[1]] = []\n",
    "            gene2go_dict[rec_l[1]].append({\"go_id\": rec_l[2], \"go_term\" : rec_l[5], \"go_category\":rec_l[7]})\n",
    "            c+=1\n",
    "            #if c>10:\n",
    "            #    break"
   ]
  },
  {
   "cell_type": "code",
   "execution_count": 16,
   "metadata": {},
   "outputs": [],
   "source": [
    "fname_litt=r'C:\\Users\\magkj2\\OneDrive - Västra Götalandsregionen\\Documents\\Innovationsfonden\\omvärldsbevakning\\covid-19\\data\\ATC.csv.gz'\n",
    "atc_dict={}\n",
    "with gzip.open(fname_litt, 'rb') as f:\n",
    "    file_content = f.read()\n",
    "    c=0\n",
    "    for rec in file_content.decode(\"utf-8\").split(\"\\n\"):\n",
    "        c+=1\n",
    "        if c<2:\n",
    "            continue\n",
    "        mod_rec=re.sub(r'(?!(([^\"]*\"){2})*[^\"]*$),', '', rec)\n",
    "        if len(mod_rec.split(\",\"))>5:\n",
    "            mesh_id=mod_rec.split(\",\")[5]\n",
    "            atc_id=mod_rec.split(\",\")[0].split(\"/\")[5]\n",
    "            atc_name=mod_rec.split(\",\")[1]\n",
    "            atc_dict[mesh_id] = {\"atc_id\":atc_id, \"atc_name\": atc_name}\n",
    "        "
   ]
  },
  {
   "cell_type": "code",
   "execution_count": 13,
   "metadata": {},
   "outputs": [],
   "source": [
    "#laddas ner från https://www.drugbank.ca/releases/latest\n",
    "#men måste kolla hur jag parsade xml-filen till json\n",
    "fname_drugbank=base_url+r'drugbank_parsed.json'\n",
    "drugbank_f = open(fname_drugbank)\n",
    "drugbank_name_dict={}\n",
    "for line in drugbank_f.read().split(\"\\n\"):\n",
    "    obj=json.loads(line)\n",
    "    drugbank_name_dict[obj[\"drugbank_name\"].lower()] = obj[\"drugbank_id\"]\n",
    "    for synonym in obj[\"synonyms\"]:\n",
    "        drugbank_name_dict[synonym.lower()] = obj[\"drugbank_id\"]"
   ]
  },
  {
   "cell_type": "code",
   "execution_count": 25,
   "metadata": {},
   "outputs": [
    {
     "name": "stdout",
     "output_type": "stream",
     "text": [
      "1000\n",
      "2000\n",
      "3000\n",
      "4000\n",
      "5000\n",
      "6000\n",
      "7000\n",
      "8000\n",
      "9000\n",
      "10000\n",
      "11000\n",
      "12000\n"
     ]
    },
    {
     "ename": "KeyboardInterrupt",
     "evalue": "",
     "output_type": "error",
     "traceback": [
      "\u001b[1;31m---------------------------------------------------------------------------\u001b[0m",
      "\u001b[1;31mKeyboardInterrupt\u001b[0m                         Traceback (most recent call last)",
      "\u001b[1;32m<ipython-input-25-406f553bda85>\u001b[0m in \u001b[0;36m<module>\u001b[1;34m\u001b[0m\n\u001b[0;32m    150\u001b[0m \u001b[1;32mfor\u001b[0m \u001b[0mres\u001b[0m \u001b[1;32min\u001b[0m \u001b[0mres_l\u001b[0m\u001b[1;33m:\u001b[0m\u001b[1;33m\u001b[0m\u001b[1;33m\u001b[0m\u001b[0m\n\u001b[0;32m    151\u001b[0m     \u001b[1;32mwith\u001b[0m \u001b[0mio\u001b[0m\u001b[1;33m.\u001b[0m\u001b[0mopen\u001b[0m\u001b[1;33m(\u001b[0m\u001b[0mout_fname\u001b[0m\u001b[1;33m,\u001b[0m \u001b[1;34m'a'\u001b[0m\u001b[1;33m,\u001b[0m \u001b[0mencoding\u001b[0m\u001b[1;33m=\u001b[0m\u001b[1;34m'utf8'\u001b[0m\u001b[1;33m)\u001b[0m \u001b[1;32mas\u001b[0m \u001b[0mf\u001b[0m\u001b[1;33m:\u001b[0m\u001b[1;33m\u001b[0m\u001b[1;33m\u001b[0m\u001b[0m\n\u001b[1;32m--> 152\u001b[1;33m         \u001b[0mf\u001b[0m\u001b[1;33m.\u001b[0m\u001b[0mwrite\u001b[0m\u001b[1;33m(\u001b[0m\u001b[0mres\u001b[0m \u001b[1;33m+\u001b[0m \u001b[1;34m\"\\n\"\u001b[0m\u001b[1;33m)\u001b[0m\u001b[1;33m\u001b[0m\u001b[1;33m\u001b[0m\u001b[0m\n\u001b[0m",
      "\u001b[1;31mKeyboardInterrupt\u001b[0m: "
     ]
    }
   ],
   "source": [
    "fname=base_url+r'litcovid2pubtator.gz'\n",
    "res_l=[\"id|pmid|doc_link|created|authors|published_date|type|text|ann_text|ann_mesh_text|ann_id|ann_type|cat|ann_db_id|ann_db_term|ann_db_category|link\"]\n",
    "\n",
    "out_fname=base_url+r'result.csv'\n",
    "with io.open(out_fname, 'w', encoding='utf8') as f:\n",
    "    f.write(\"\\n\".join(res_l))\n",
    "\n",
    "res_l==\"\"\n",
    "pub_none=0\n",
    "with gzip.open(fname, 'rb') as f:\n",
    "    file_content = f.read()\n",
    "    c=0\n",
    "    for l in json.loads(file_content)[1]:\n",
    "        id=str(l[\"id\"])\n",
    "        pmid=str(l[\"pmid\"])\n",
    "        pmcid=l[\"pmcid\"]\n",
    "        created=pd.to_datetime(l[\"created\"][\"$date\"], unit='ms').strftime('%Y-%m-%d')\n",
    "        authors = \";\".join(l[\"authors\"])\n",
    "        #tags =l[\"tags\"]\n",
    "        doc_link=\"https://www.ncbi.nlm.nih.gov/research/coronavirus/publication/\" + str(pmid)\n",
    "\n",
    "        #if id in id_cat_dict:\n",
    "        if pmid in id_cat_dict:\n",
    "            #cat = id_cat_dict[id]\n",
    "            cat = id_cat_dict[pmid]\n",
    "        else:\n",
    "            cat='None'\n",
    "            \n",
    "        if pmid in published_date_dict:\n",
    "            published_date=published_date_dict[pmid]\n",
    "        else:\n",
    "            published_date='None'\n",
    "            pub_none+=1\n",
    "\n",
    "        for passage in l[\"passages\"]:\n",
    "            type = passage[\"infons\"][\"type\"]\n",
    "            text = passage[\"text\"]\n",
    "\n",
    "                        \n",
    "            if \"annotations\" in passage:\n",
    "                for annotation in passage[\"annotations\"]:\n",
    "                    ann_text=\"\"\n",
    "                    ann_id=\"\"\n",
    "                    ann_type=\"\"\n",
    "                    ann_mesh_text=\"\"\n",
    "                    go_id=\"\"\n",
    "                    go_term=\"\"\n",
    "                    go_category=\"\"\n",
    "                    link=\"\"\n",
    "                    atc_id=\"\"\n",
    "                    atc_term=\"\"\n",
    "                    \n",
    "                    if annotation[\"infons\"][\"type\"]:\n",
    "                        ann_type = annotation[\"infons\"][\"type\"]\n",
    "                    if annotation[\"text\"]:\n",
    "                        ann_text=annotation[\"text\"]\n",
    "                        \n",
    "                        \n",
    "                    if annotation[\"infons\"][\"identifier\"]:\n",
    "                        ann_id=annotation[\"infons\"][\"identifier\"]\n",
    "                        trunc_ann_id = ann_id.replace(\"MESH:\",\"\")\n",
    "                        if trunc_ann_id in mesh_dict:\n",
    "                            ann_mesh_text = mesh_dict[trunc_ann_id][\"mh\"]\n",
    "                            \n",
    "                            #for mn in mesh_dict[trunc_ann_id][\"mn\"]:\n",
    "                            #    mn_l = mn.split(\".\")\n",
    "                            #    s=\"\"\n",
    "                            #    for a in range(len(mn_l),1,-1):\n",
    "                            #        s+=mn_l[len(mn_l)-a]+\".\"\n",
    "                            #        #print(mn_l[len(mn_l)-a])\n",
    "                            #        #print(s[:len(s)-1])\n",
    "                                \n",
    "                        if ann_type == \"Gene\":\n",
    "                            if str(ann_id) in gene_info_dict:\n",
    "                                ann_mesh_text = gene_info_dict[str(ann_id)][\"name\"]\n",
    "                                \n",
    "\n",
    "\n",
    "                    if ann_type == \"Gene\":\n",
    "                        if ann_id in gene2go_dict:\n",
    "                            for gene_ann in gene2go_dict[ann_id]:\n",
    "                                go_id=gene_ann[\"go_id\"]\n",
    "                                go_term=gene_ann[\"go_term\"]\n",
    "                                go_category=gene_ann[\"go_category\"]\n",
    "                                link = 'https://www.ncbi.nlm.nih.gov/gene/' + str(ann_id)\n",
    "                                try:\n",
    "                                    res_l.append(\"|\".join([id,pmid,doc_link,created,authors,published_date,type,text,ann_text,ann_mesh_text,ann_id,ann_type, cat, go_id, go_term, go_category,link]))\n",
    "                                except:\n",
    "                                    print(annotation)\n",
    "                    elif ann_type == \"Chemical\":\n",
    "                        atc_ann_id=ann_id.replace(\"MESH:\",\"\")\n",
    "                        if atc_ann_id in atc_dict:\n",
    "                            if \"atc_id\" in atc_dict[atc_ann_id]:\n",
    "                                atc_id=atc_dict[ann_id][\"atc_id\"]\n",
    "                            if \"atc_term\" in atc_dict[atc_ann_id]:\n",
    "                                atc_term=atc_dict[atc_ann_id][\"atc_term\"]\n",
    "                        #print(ann_mesh_text)\n",
    "                        if ann_mesh_text.lower() in drugbank_name_dict:\n",
    "                            link='https://www.drugbank.ca/drugs/' + drugbank_name_dict[ann_mesh_text.lower()]\n",
    "                        elif ann_text.lower() in drugbank_name_dict:\n",
    "                            link='https://www.drugbank.ca/drugs/' + drugbank_name_dict[ann_text.lower()]\n",
    "                        \n",
    "                        if annotation[\"infons\"][\"identifier\"]:\n",
    "                            ann_id=annotation[\"infons\"][\"identifier\"]\n",
    "                            trunc_ann_id = ann_id.replace(\"MESH:\",\"\")\n",
    "                            if trunc_ann_id in mesh_dict:\n",
    "                                ann_mesh_text = mesh_dict[trunc_ann_id][\"mh\"]\n",
    "\n",
    "                                for mn in mesh_dict[trunc_ann_id][\"mn\"]:\n",
    "                                    mn_l = mn.split(\".\")\n",
    "                                    s=\"\"\n",
    "                                    for a in range(len(mn_l),1,-1):\n",
    "                                        s+=mn_l[len(mn_l)-a]+\".\"                                      \n",
    "                                        db_id=mesh_tree_dict[s[:len(s)-1]]['ui']\n",
    "                                        db_text= mesh_tree_dict[s[:len(s)-1]]['mh']\n",
    "                                        \n",
    "                                        res_l.append(\"|\".join([id,pmid,doc_link,created,authors,published_date,type,text,ann_text,ann_mesh_text,ann_id,ann_type, cat, db_id, db_text,'MESH',link]))\n",
    "                    elif ann_type == \"Disease\":\n",
    "                        if annotation[\"infons\"][\"identifier\"]:\n",
    "                            ann_id=annotation[\"infons\"][\"identifier\"]\n",
    "                            trunc_ann_id = ann_id.replace(\"MESH:\",\"\")\n",
    "                            if trunc_ann_id in mesh_dict:\n",
    "                                ann_mesh_text = mesh_dict[trunc_ann_id][\"mh\"]\n",
    "\n",
    "                                for mn in mesh_dict[trunc_ann_id][\"mn\"]:\n",
    "                                    mn_l = mn.split(\".\")\n",
    "                                    s=\"\"\n",
    "                                    for a in range(len(mn_l),1,-1):\n",
    "                                        s+=mn_l[len(mn_l)-a]+\".\"                                      \n",
    "                                        db_id=mesh_tree_dict[s[:len(s)-1]]['ui']\n",
    "                                        db_text= mesh_tree_dict[s[:len(s)-1]]['mh']\n",
    "                                        \n",
    "                                        res_l.append(\"|\".join([id,pmid,doc_link,created,authors,published_date,type,text,ann_text,ann_mesh_text,ann_id,ann_type, cat, db_id, db_text,'MESH',link]))\n",
    "\n",
    "                    else:\n",
    "\n",
    "                        try:\n",
    "                            res_l.append(\"|\".join([id,pmid,doc_link,created,authors,published_date,type,text,ann_text,ann_mesh_text,ann_id,ann_type, cat,'None','None','None',link]))\n",
    "                        except:\n",
    "                            print(annotation)\n",
    "        c+=1\n",
    "       # if c>10:\n",
    "       #     break\n",
    "        if c%1000 == 0:\n",
    "            print(c)\n",
    "            \n",
    "\n",
    "\n",
    "out_fname=base_url+r'result.csv'\n",
    "for res in res_l:\n",
    "    with io.open(out_fname, 'a', encoding='utf8') as f:\n",
    "        f.write(res + \"\\n\")"
   ]
  },
  {
   "cell_type": "code",
   "execution_count": 24,
   "metadata": {},
   "outputs": [
    {
     "data": {
      "text/plain": [
       "'7194613|32283152|https://www.ncbi.nlm.nih.gov/research/coronavirus/publication/32283152|2020-05-06|Ye Q;Wang B;Mao J|None|ref|Targeting Robo4-Dependent Slit Signaling to Survive the Cytokine Storm in Sepsis and Influenza|Robo4|roundabout guidance receptor 4|54538|Gene|Treatment|GO:0016021|integral component of membrane|Component|https://www.ncbi.nlm.nih.gov/gene/54538'"
      ]
     },
     "execution_count": 24,
     "metadata": {},
     "output_type": "execute_result"
    }
   ],
   "source": [
    "res_l[len(res_l)-100]"
   ]
  },
  {
   "cell_type": "code",
   "execution_count": null,
   "metadata": {},
   "outputs": [],
   "source": [
    "f.close()"
   ]
  }
 ],
 "metadata": {
  "kernelspec": {
   "display_name": "Python 3",
   "language": "python",
   "name": "python3"
  },
  "language_info": {
   "codemirror_mode": {
    "name": "ipython",
    "version": 3
   },
   "file_extension": ".py",
   "mimetype": "text/x-python",
   "name": "python",
   "nbconvert_exporter": "python",
   "pygments_lexer": "ipython3",
   "version": "3.7.4"
  }
 },
 "nbformat": 4,
 "nbformat_minor": 4
}
